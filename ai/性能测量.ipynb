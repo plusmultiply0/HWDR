{
 "cells": [
  {
   "cell_type": "code",
   "execution_count": null,
   "metadata": {},
   "outputs": [],
   "source": []
  },
  {
   "cell_type": "markdown",
   "metadata": {},
   "source": [
    "# 计算混淆矩阵|精度,召回率,f1分数"
   ]
  },
  {
   "cell_type": "code",
   "execution_count": null,
   "metadata": {},
   "outputs": [],
   "source": [
    "# 写一个简化操作的函数--------------------------------计算不同分类模型的...如上\n",
    "# 导入相关函数\n",
    "from sklearn.model_selection import cross_val_predict\n",
    "from sklearn.metrics import confusion_matrix\n",
    "# 当前环境需要有 X_train,y_train\n",
    "\n",
    "# 参数：model——训练好的算法模型；name——用于显示的名字；暂时固定训练集和标签数量\n",
    "def calcualte_conmat_pr_rc_f1(model,name=''):\n",
    "    # 计算混淆矩阵前，先要预测一轮\n",
    "    y_train_pred = cross_val_predict(model,X_train,y_train,cv=3)\n",
    "    # 计算混淆矩阵，并打印\n",
    "    con_mat_model = confusion_matrix(y_train,y_train_pred)\n",
    "    print(name+' 混淆矩阵为：')\n",
    "    print(con_mat_model)\n",
    "    # 计算召回率和精度\n",
    "    # 美化显示的数字\n",
    "    def display_cutnum(x):\n",
    "        if len(x)<10:\n",
    "            x = x +'0'*(10-len(x))\n",
    "        else:\n",
    "            x = x[:10]\n",
    "        return x\n",
    "    # 计算每一个，并且添加到列表里\n",
    "    pr_rc_f1_list=[]\n",
    "    vertical_sum = con_mat_model.sum(axis=0)\n",
    "    for i in range(10):\n",
    "        tp = max(con_mat_model[i])\n",
    "        fp = sum(con_mat_model[i])-tp\n",
    "        fn = vertical_sum[i]-tp\n",
    "        pr = tp/(tp+fp)\n",
    "        rc = tp/(tp+fn)\n",
    "        f1 = tp/(tp+(fn+fp)/2)\n",
    "        pr_rc_f1_list.append([pr,rc,f1])\n",
    "    print('\\n各个数字的精度，召回率和f1分数分别如下：\\n')\n",
    "    for i in range(10):\n",
    "        num = str(i)\n",
    "        pr = display_cutnum(str(pr_rc_f1_list[i][0]))\n",
    "        rc = display_cutnum(str(pr_rc_f1_list[i][1]))\n",
    "        f1 = display_cutnum(str(pr_rc_f1_list[i][2]))\n",
    "        print('数字 '+num+' 的精度为：'+pr+' 召回率为：'+rc+' f1分数为：'+f1+'\\n')\n",
    "# 测试\n",
    "calcualte_conmat_pr_rc_f1(sgd_clf,'sgd')\n",
    "# 跑整个训练集大概4-5min"
   ]
  },
  {
   "cell_type": "markdown",
   "metadata": {},
   "source": [
    "# 绘制阈值与精度|召回率的曲线图"
   ]
  },
  {
   "cell_type": "code",
   "execution_count": null,
   "metadata": {},
   "outputs": [],
   "source": [
    "# 绘制阈值与精度|召回率的曲线图--------------可选不同算法模型\n",
    "# 导入所需模型\n",
    "from sklearn.linear_model import SGDClassifier\n",
    "# 导入相关函数\n",
    "from sklearn.model_selection import cross_val_predict\n",
    "from sklearn.metrics import precision_recall_curve\n",
    "# 当前环境要有:X_train,y_train\n",
    "\n",
    "# 画图\n",
    "def plot_precision_recall_vs_threshold(precisions, recalls, thresholds):\n",
    "    plt.plot(thresholds, precisions[:-1], \"b--\", label=\"Precision\", linewidth=2)\n",
    "    plt.plot(thresholds, recalls[:-1], \"g-\", label=\"Recall\", linewidth=2)\n",
    "    plt.legend(loc=\"center right\", fontsize=16) # Not shown in the book\n",
    "    plt.xlabel(\"Threshold\", fontsize=16)        # Not shown\n",
    "    plt.grid(True)                              # Not shown\n",
    "    plt.axis([-50000, 50000, 0, 1])             # Not shown\n",
    "    plt.figure(figsize=(8, 4))                  # Not shown\n",
    "\n",
    "# plot_precision_recall_vs_threshold(precisions, recalls, thresholds)\n",
    "# plt.show()\n",
    "\n",
    "# 画出每个数字的阈值——精度/召回率曲线\n",
    "def draw_num_pr_threshold(model):\n",
    "    # 先给各个数字分类\n",
    "    y_train_set = []\n",
    "    model_list = []\n",
    "    y_scores_set = []\n",
    "    pr_curve_set = []\n",
    "    for i in range(10):\n",
    "        y_train_set.append(y_train==str(i))\n",
    "        print(y_train_set[i])\n",
    "    # 模型可以直接用,无需重复训练\n",
    "    for i in range(10):\n",
    "        y_scores_set.append(cross_val_predict(model, X_train, y_train_set[i], cv=3,method=\"decision_function\"))\n",
    "    for i in range(10):\n",
    "        precisions, recalls, thresholds = precision_recall_curve(y_train_set[i], y_scores_set[i])\n",
    "        pr_curve_set.append([precisions, recalls, thresholds])\n",
    "    for i in range(10):\n",
    "        print('数字 '+str(i)+' 的阈值——精度/召回率曲线图：\\n')\n",
    "        plot_precision_recall_vs_threshold(pr_curve_set[i][0], pr_curve_set[i][1], pr_curve_set[i][2])\n",
    "        plt.show()\n",
    "    return 0\n",
    "\n",
    "draw_num_pr_threshold(sgd_clf)\n",
    "# 训练大概5-6min"
   ]
  },
  {
   "cell_type": "markdown",
   "metadata": {},
   "source": [
    "# 绘制ROC曲线\n",
    "- 用来比较多个模型\n",
    "- ROC分数/ROC曲线"
   ]
  },
  {
   "cell_type": "code",
   "execution_count": null,
   "metadata": {},
   "outputs": [],
   "source": [
    "# 写一个绘制某种model的每个数字ROC曲线的函数--------------用来比较不同的算法模型\n",
    "\n",
    "# 导入依赖\n",
    "from sklearn.metrics import roc_curve,roc_auc_score\n",
    "# 当前环境要有:X_train,y_train\n",
    "\n",
    "# To plot pretty figures\n",
    "%matplotlib inline\n",
    "import matplotlib as mpl\n",
    "import matplotlib.pyplot as plt\n",
    "\n",
    "\n",
    "# 画图\n",
    "def plot_roc_curve(fpr, tpr, label=None):\n",
    "    plt.plot(fpr, tpr, linewidth=2, label=label)\n",
    "    plt.plot([0, 1], [0, 1], 'k--') # dashed diagonal\n",
    "    plt.axis([0, 1, 0, 1])                                    # Not shown in the book\n",
    "    plt.xlabel('False Positive Rate (Fall-Out)', fontsize=16) # Not shown\n",
    "    plt.ylabel('True Positive Rate (Recall)', fontsize=16)    # Not shown\n",
    "    plt.grid(True)                                            # Not shown\n",
    "    plt.figure(figsize=(8, 6))                                # Not shown\n",
    "\n",
    "def draw_model_roc(model):\n",
    "    # 先给各个数字分类\n",
    "    y_train_set = []\n",
    "    model_list = []\n",
    "    y_scores_set = []\n",
    "    roc_curve_set = []\n",
    "    for i in range(10):\n",
    "        y_train_set.append(y_train==str(i))\n",
    "    for i in range(10):\n",
    "        y_scores = cross_val_predict(model, X_train, y_train_set[i], cv=3,method=\"decision_function\")\n",
    "        y_scores_set.append(y_scores)\n",
    "    for i in range(10):\n",
    "        fpr, tpr, thresholds = roc_curve(y_train_set[i], y_scores_set[i])\n",
    "        roc_curve_set.append([fpr, tpr, thresholds])\n",
    "    for i in range(10):\n",
    "        fpr = roc_curve_set[i][0]\n",
    "        tpr = roc_curve_set[i][1]\n",
    "        roc_score = roc_auc_score(y_train_set[i],y_scores_set[i])\n",
    "        print('数字 '+str(i)+' 的ROC曲线如下,对应的ROC分数为: '+str(roc_score)+'\\n')\n",
    "        plot_roc_curve(fpr, tpr)\n",
    "        plt.show()\n",
    "\n",
    "draw_model_roc(sgd_clf)\n",
    "# sgd_clf----2000左右,大概跑4min---搭配X_train,y_train_i"
   ]
  },
  {
   "cell_type": "markdown",
   "metadata": {},
   "source": [
    "# 交叉验证\n",
    "- 非主选,但是多分类问题可以参考"
   ]
  },
  {
   "cell_type": "code",
   "execution_count": null,
   "metadata": {},
   "outputs": [],
   "source": []
  }
 ],
 "metadata": {
  "kernelspec": {
   "display_name": "Python 3",
   "language": "python",
   "name": "python3"
  },
  "language_info": {
   "codemirror_mode": {
    "name": "ipython",
    "version": 3
   },
   "file_extension": ".py",
   "mimetype": "text/x-python",
   "name": "python",
   "nbconvert_exporter": "python",
   "pygments_lexer": "ipython3",
   "version": "3.8.5"
  }
 },
 "nbformat": 4,
 "nbformat_minor": 4
}
