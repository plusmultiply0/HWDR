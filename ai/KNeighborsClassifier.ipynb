{
 "cells": [
  {
   "cell_type": "code",
   "execution_count": null,
   "metadata": {},
   "outputs": [],
   "source": []
  },
  {
   "cell_type": "markdown",
   "metadata": {},
   "source": [
    "# KNeighborsClassifier 训练+分析\n",
    "> 从头到尾，训练分析过一遍\n",
    "- 预处理\n",
    "- 全数据集训练"
   ]
  },
  {
   "cell_type": "code",
   "execution_count": 2,
   "metadata": {},
   "outputs": [],
   "source": [
    "# to build and test ml model\n",
    "\n",
    "# Common imports \n",
    "import sys\n",
    "\n",
    "import sklearn\n",
    "\n",
    "import numpy as np\n",
    "import os\n",
    "\n",
    "# to make this notebook's output stable across runs\n",
    "np.random.seed(42)\n",
    "\n",
    "# To plot pretty figures\n",
    "%matplotlib inline\n",
    "import matplotlib as mpl\n",
    "import matplotlib.pyplot as plt"
   ]
  },
  {
   "cell_type": "code",
   "execution_count": 3,
   "metadata": {},
   "outputs": [
    {
     "data": {
      "text/plain": [
       "dict_keys(['data', 'target', 'frame', 'categories', 'feature_names', 'target_names', 'DESCR', 'details', 'url'])"
      ]
     },
     "execution_count": 3,
     "metadata": {},
     "output_type": "execute_result"
    }
   ],
   "source": [
    "# 加载mnist数据集\n",
    "from sklearn.datasets import fetch_openml\n",
    "mnist = fetch_openml('mnist_784', version=1)\n",
    "mnist.keys()"
   ]
  },
  {
   "cell_type": "code",
   "execution_count": 4,
   "metadata": {},
   "outputs": [],
   "source": [
    "# 利用预先划分好的训练集和测试集\n",
    "\n",
    "X, y = mnist[\"data\"], mnist[\"target\"]\n",
    "X_train, X_test, y_train, y_test = X[:60000], X[60000:], y[:60000], y[60000:]"
   ]
  },
  {
   "cell_type": "code",
   "execution_count": 5,
   "metadata": {},
   "outputs": [
    {
     "data": {
      "text/plain": [
       "KNeighborsClassifier()"
      ]
     },
     "execution_count": 5,
     "metadata": {},
     "output_type": "execute_result"
    }
   ],
   "source": [
    "from sklearn.neighbors import KNeighborsClassifier\n",
    "\n",
    "# 全训练集——训练\n",
    "kn_clf = KNeighborsClassifier()\n",
    "kn_clf.fit(X_train,y_train)\n",
    "# 训练耗时差不多1min"
   ]
  },
  {
   "cell_type": "code",
   "execution_count": 6,
   "metadata": {},
   "outputs": [
    {
     "data": {
      "text/plain": [
       "['kn_model_all_training.pkl']"
      ]
     },
     "execution_count": 6,
     "metadata": {},
     "output_type": "execute_result"
    }
   ],
   "source": [
    "# 模型保存\n",
    "import joblib\n",
    "joblib.dump(kn_clf,\"kn_model_all_training.pkl\")\n",
    "# to load\n",
    "# kn_model_all_training_loaded = joblib.load(\"kn_model_all_training.pkl\")"
   ]
  },
  {
   "cell_type": "code",
   "execution_count": 7,
   "metadata": {
    "scrolled": true
   },
   "outputs": [
    {
     "name": "stdout",
     "output_type": "stream",
     "text": [
      "test result: predict:['6'] real: 6\n",
      "test scores:1.0\n"
     ]
    }
   ],
   "source": [
    "# 简单的用测试集验证---训练后，个人简单验证\n",
    "# 检验函数\n",
    "def testour(X_test,y_test,n,model):\n",
    "    some_digit=X_test[n]\n",
    "    some_digit_pred = model.predict([some_digit])\n",
    "    print(\"test result: predict:\"+str(some_digit_pred)+' real: '+str(y_test[n]))\n",
    "    some_digit_score=model.score([some_digit],[y_test[n]])\n",
    "    print(\"test scores:\"+str(some_digit_score))\n",
    "\n",
    "testour(X_test,y_test,100,kn_clf)"
   ]
  },
  {
   "cell_type": "markdown",
   "metadata": {},
   "source": [
    "## 性能检验"
   ]
  },
  {
   "cell_type": "code",
   "execution_count": 16,
   "metadata": {},
   "outputs": [
    {
     "data": {
      "text/plain": [
       "array([0.9676 , 0.9671 , 0.96755])"
      ]
     },
     "execution_count": 16,
     "metadata": {},
     "output_type": "execute_result"
    }
   ],
   "source": [
    "from sklearn.model_selection import cross_val_score\n",
    "# 交叉验证——比较准确率\n",
    "cross_val_score(kn_clf,X_train,y_train,cv=3,scoring=\"accuracy\")\n",
    "# 全数据集交叉验证差不多56min"
   ]
  },
  {
   "cell_type": "markdown",
   "metadata": {},
   "source": [
    "### 计算混淆矩阵|精度,召回率,f1分数"
   ]
  },
  {
   "cell_type": "code",
   "execution_count": 17,
   "metadata": {},
   "outputs": [
    {
     "name": "stdout",
     "output_type": "stream",
     "text": [
      "kn_clf 混淆矩阵为：\n",
      "[[5882    4    5    0    1    5   19    1    2    4]\n",
      " [   2 6705   10    2    1    1    3   11    2    5]\n",
      " [  51   60 5695   15   11    4    9   87   17    9]\n",
      " [   8   16   39 5903    1   63    4   40   33   24]\n",
      " [   3   53    1    1 5628    0   13   11    2  130]\n",
      " [  14   18    4   67    6 5211   58    7   11   25]\n",
      " [  24   13    1    0    5   27 5846    0    2    0]\n",
      " [   4   68   14    3   20    1    0 6083    3   69]\n",
      " [  25   85   15   87   35  111   26   19 5382   66]\n",
      " [  19   13    5   45   46   12    5   79   15 5710]]\n",
      "\n",
      "各个数字的精度，召回率和f1分数分别如下：\n",
      "\n",
      "数字 0 的精度为：0.99307783 召回率为：0.97513262 f1分数为：0.98402342\n",
      "\n",
      "数字 1 的精度为：0.99451201 召回率为：0.95309168 f1分数为：0.97336139\n",
      "\n",
      "数字 2 的精度为：0.95585767 召回率为：0.98376230 f1分数为：0.96960926\n",
      "\n",
      "数字 3 的精度为：0.96281193 召回率为：0.96406990 f1分数为：0.96344050\n",
      "\n",
      "数字 4 的精度为：0.96336870 召回率为：0.97810218 f1分数为：0.97067954\n",
      "\n",
      "数字 5 的精度为：0.96126175 召回率为：0.95878564 f1分数为：0.96002210\n",
      "\n",
      "数字 6 的精度为：0.98783372 召回率为：0.97710178 f1分数为：0.98243845\n",
      "\n",
      "数字 7 的精度为：0.97094972 召回率为：0.95976648 f1分数为：0.96532571\n",
      "\n",
      "数字 8 的精度为：0.91984276 召回率为：0.98409215 f1分数为：0.95088339\n",
      "\n",
      "数字 9 的精度为：0.95982518 召回率为：0.94505130 f1分数为：0.95238095\n",
      "\n"
     ]
    }
   ],
   "source": [
    "# 写一个简化操作的函数--------------------------------计算不同分类模型的...如上\n",
    "# 导入相关函数\n",
    "from sklearn.model_selection import cross_val_predict\n",
    "from sklearn.metrics import confusion_matrix\n",
    "# 当前环境需要有 X_train,y_train\n",
    "\n",
    "# 参数：model——训练好的算法模型；name——用于显示的名字；暂时固定训练集和标签数量\n",
    "def calcualte_conmat_pr_rc_f1(model,name=''):\n",
    "    # 计算混淆矩阵前，先要预测一轮\n",
    "    y_train_pred = cross_val_predict(model,X_train,y_train,cv=3)\n",
    "    # 计算混淆矩阵，并打印\n",
    "    con_mat_model = confusion_matrix(y_train,y_train_pred)\n",
    "    print(name+' 混淆矩阵为：')\n",
    "    print(con_mat_model)\n",
    "    # 计算召回率和精度\n",
    "    # 美化显示的数字\n",
    "    def display_cutnum(x):\n",
    "        if len(x)<10:\n",
    "            x = x +'0'*(10-len(x))\n",
    "        else:\n",
    "            x = x[:10]\n",
    "        return x\n",
    "    # 计算每一个，并且添加到列表里\n",
    "    pr_rc_f1_list=[]\n",
    "    vertical_sum = con_mat_model.sum(axis=0)\n",
    "    for i in range(10):\n",
    "        tp = max(con_mat_model[i])\n",
    "        fp = sum(con_mat_model[i])-tp\n",
    "        fn = vertical_sum[i]-tp\n",
    "        pr = tp/(tp+fp)\n",
    "        rc = tp/(tp+fn)\n",
    "        f1 = tp/(tp+(fn+fp)/2)\n",
    "        pr_rc_f1_list.append([pr,rc,f1])\n",
    "    print('\\n各个数字的精度，召回率和f1分数分别如下：\\n')\n",
    "    for i in range(10):\n",
    "        num = str(i)\n",
    "        pr = display_cutnum(str(pr_rc_f1_list[i][0]))\n",
    "        rc = display_cutnum(str(pr_rc_f1_list[i][1]))\n",
    "        f1 = display_cutnum(str(pr_rc_f1_list[i][2]))\n",
    "        print('数字 '+num+' 的精度为：'+pr+' 召回率为：'+rc+' f1分数为：'+f1+'\\n')\n",
    "# 测试\n",
    "calcualte_conmat_pr_rc_f1(kn_clf,'kn_clf')\n",
    "# 跑整个训练集大概54-55min"
   ]
  },
  {
   "cell_type": "markdown",
   "metadata": {},
   "source": [
    "### 绘制阈值与精度|召回率的曲线图"
   ]
  },
  {
   "cell_type": "code",
   "execution_count": 18,
   "metadata": {},
   "outputs": [],
   "source": [
    "y_train_set = (y_train==str(5))\n",
    "res = cross_val_predict(kn_clf, X_train, y_train_set, cv=3,method=\"predict_proba\")"
   ]
  },
  {
   "cell_type": "code",
   "execution_count": 19,
   "metadata": {},
   "outputs": [
    {
     "name": "stdout",
     "output_type": "stream",
     "text": [
      "[[0.2 0.8]\n",
      " [1.  0. ]\n",
      " [1.  0. ]\n",
      " ...\n",
      " [0.  1. ]\n",
      " [1.  0. ]\n",
      " [1.  0. ]]\n"
     ]
    }
   ],
   "source": [
    "print(res)"
   ]
  },
  {
   "cell_type": "code",
   "execution_count": null,
   "metadata": {},
   "outputs": [
    {
     "name": "stdout",
     "output_type": "stream",
     "text": [
      "[False  True False ... False False False]\n",
      "[False False False ... False False False]\n",
      "[False False False ... False False False]\n",
      "[False False False ... False False False]\n",
      "[False False  True ... False False False]\n",
      "[ True False False ...  True False False]\n",
      "[False False False ... False  True False]\n",
      "[False False False ... False False False]\n",
      "[False False False ... False False  True]\n",
      "[False False False ... False False False]\n"
     ]
    }
   ],
   "source": [
    "# 绘制阈值与精度|召回率的曲线图--------------可选不同算法模型\n",
    "# 导入所需模型\n",
    "from sklearn.neighbors import KNeighborsClassifier\n",
    "# 导入相关函数\n",
    "from sklearn.model_selection import cross_val_predict\n",
    "from sklearn.metrics import precision_recall_curve\n",
    "# 当前环境要有:X_train,y_train\n",
    "\n",
    "# 画图\n",
    "def plot_precision_recall_vs_threshold(precisions, recalls, thresholds):\n",
    "    plt.plot(thresholds, precisions[:-1], \"b--\", label=\"Precision\", linewidth=2)\n",
    "    plt.plot(thresholds, recalls[:-1], \"g-\", label=\"Recall\", linewidth=2)\n",
    "    plt.legend(loc=\"center right\", fontsize=16) # Not shown in the book\n",
    "    plt.xlabel(\"Threshold\", fontsize=16)        # Not shown\n",
    "    plt.grid(True)                              # Not shown\n",
    "    plt.axis([-50000, 50000, 0, 1])             # Not shown\n",
    "    plt.figure(figsize=(8, 4))                  # Not shown\n",
    "\n",
    "# plot_precision_recall_vs_threshold(precisions, recalls, thresholds)\n",
    "# plt.show()\n",
    "\n",
    "# 画出每个数字的阈值——精度/召回率曲线\n",
    "def draw_num_pr_threshold(model):\n",
    "    # 先给各个数字分类\n",
    "    y_train_set = []\n",
    "    model_list = []\n",
    "    y_scores_set = []\n",
    "    pr_curve_set = []\n",
    "    for i in range(10):\n",
    "        y_train_set.append(y_train==str(i))\n",
    "        print(y_train_set[i])\n",
    "    # 模型可以直接用,无需重复训练\n",
    "    for i in range(10):\n",
    "        y_scores_set.append(cross_val_predict(model, X_train, y_train_set[i], cv=3,method=\"predict_proba\"))\n",
    "    for i in range(10):\n",
    "        precisions, recalls, thresholds = precision_recall_curve(y_train_set[i], y_scores_set[i][:,1])\n",
    "        pr_curve_set.append([precisions, recalls, thresholds])\n",
    "    for i in range(10):\n",
    "        print('数字 '+str(i)+' 的阈值——精度/召回率曲线图：\\n')\n",
    "        plot_precision_recall_vs_threshold(pr_curve_set[i][0], pr_curve_set[i][1], pr_curve_set[i][2])\n",
    "        plt.show()\n",
    "    return 0\n",
    "\n",
    "draw_num_pr_threshold(kn_clf)\n",
    "# 训练大概5-6min"
   ]
  },
  {
   "cell_type": "markdown",
   "metadata": {},
   "source": [
    "# 绘制ROC曲线\n",
    "- 用来比较多个模型\n",
    "- ROC分数/ROC曲线"
   ]
  },
  {
   "cell_type": "code",
   "execution_count": null,
   "metadata": {},
   "outputs": [],
   "source": [
    "# 写一个绘制某种model的每个数字ROC曲线的函数--------------用来比较不同的算法模型\n",
    "\n",
    "# 导入依赖\n",
    "from sklearn.metrics import roc_curve,roc_auc_score\n",
    "from sklearn.model_selection import cross_val_predict\n",
    "from sklearn.metrics import precision_recall_curve\n",
    "# 当前环境要有:X_train,y_train\n",
    "\n",
    "# To plot pretty figures\n",
    "%matplotlib inline\n",
    "import matplotlib as mpl\n",
    "import matplotlib.pyplot as plt\n",
    "\n",
    "\n",
    "# 画图\n",
    "def plot_roc_curve(fpr, tpr, label=None):\n",
    "    plt.plot(fpr, tpr, linewidth=2, label=label)\n",
    "    plt.plot([0, 1], [0, 1], 'k--') # dashed diagonal\n",
    "    plt.axis([0, 1, 0, 1])                                    # Not shown in the book\n",
    "    plt.xlabel('False Positive Rate (Fall-Out)', fontsize=16) # Not shown\n",
    "    plt.ylabel('True Positive Rate (Recall)', fontsize=16)    # Not shown\n",
    "    plt.grid(True)                                            # Not shown\n",
    "    plt.figure(figsize=(8, 6))                                # Not shown\n",
    "\n",
    "def draw_model_roc(model):\n",
    "    # 先给各个数字分类\n",
    "    y_train_set = []\n",
    "    model_list = []\n",
    "    y_scores_set = []\n",
    "    roc_curve_set = []\n",
    "    for i in range(10):\n",
    "        y_train_set.append(y_train==str(i))\n",
    "    for i in range(10):\n",
    "        y_scores = cross_val_predict(model, X_train, y_train_set[i], cv=3,method=\"predict_proba\")\n",
    "        y_scores_set.append(y_scores)\n",
    "    for i in range(10):\n",
    "        fpr, tpr, thresholds = roc_curve(y_train_set[i], y_scores_set[i][:,1])\n",
    "        roc_curve_set.append([fpr, tpr, thresholds])\n",
    "    for i in range(10):\n",
    "        fpr = roc_curve_set[i][0]\n",
    "        tpr = roc_curve_set[i][1]\n",
    "        roc_score = roc_auc_score(y_train_set[i],y_scores_set[i][:,1])\n",
    "        print('数字 '+str(i)+' 的ROC曲线如下,对应的ROC分数为: '+str(roc_score)+'\\n')\n",
    "        plot_roc_curve(fpr, tpr)\n",
    "        plt.show()\n",
    "\n",
    "draw_model_roc(kn_clf)\n",
    "# kn_clf----2000左右,大概跑4min---搭配 X_train,y_train_i"
   ]
  },
  {
   "cell_type": "code",
   "execution_count": null,
   "metadata": {},
   "outputs": [],
   "source": []
  }
 ],
 "metadata": {
  "kernelspec": {
   "display_name": "Python 3",
   "language": "python",
   "name": "python3"
  },
  "language_info": {
   "codemirror_mode": {
    "name": "ipython",
    "version": 3
   },
   "file_extension": ".py",
   "mimetype": "text/x-python",
   "name": "python",
   "nbconvert_exporter": "python",
   "pygments_lexer": "ipython3",
   "version": "3.8.5"
  }
 },
 "nbformat": 4,
 "nbformat_minor": 4
}
